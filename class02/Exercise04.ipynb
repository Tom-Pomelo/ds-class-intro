{
 "nbformat": 4,
 "nbformat_minor": 2,
 "metadata": {
  "language_info": {
   "name": "python",
   "codemirror_mode": {
    "name": "ipython",
    "version": 3
   },
   "version": "3.7.6-final"
  },
  "orig_nbformat": 2,
  "file_extension": ".py",
  "mimetype": "text/x-python",
  "name": "python",
  "npconvert_exporter": "python",
  "pygments_lexer": "ipython3",
  "version": 3,
  "kernelspec": {
   "name": "python37664bitbaseconda0331266847044793a13a6c46596b79f9",
   "display_name": "Python 3.7.6 64-bit ('base': conda)"
  }
 },
 "cells": [
  {
   "cell_type": "code",
   "execution_count": 1,
   "metadata": {},
   "outputs": [
    {
     "output_type": "stream",
     "name": "stdout",
     "text": "317811\n"
    }
   ],
   "source": [
    "fibolist=[0, 1, 1, 2, 3, 5, 8, 13, 21, 34, 55, 89, 144, 233, 377, 610, 987, 1597, 2584, 4181, 6765, 10946, 17711, 28657, 46368, 75025, 121393, 196418,317811]\n",
    "\n",
    "print(fibolist[-1])"
   ]
  },
  {
   "cell_type": "code",
   "execution_count": 2,
   "metadata": {},
   "outputs": [
    {
     "output_type": "stream",
     "name": "stdout",
     "text": "832039\n"
    }
   ],
   "source": [
    "print(sum(fibolist))"
   ]
  },
  {
   "cell_type": "code",
   "execution_count": 3,
   "metadata": {},
   "outputs": [],
   "source": [
    "fibolist.append(fibolist[-2] + fibolist[-1])"
   ]
  },
  {
   "cell_type": "code",
   "execution_count": 7,
   "metadata": {},
   "outputs": [],
   "source": [
    "_fibolist_ = fibolist.copy()\n",
    "_fibolist_.reverse()"
   ]
  },
  {
   "cell_type": "code",
   "execution_count": 8,
   "metadata": {},
   "outputs": [
    {
     "output_type": "stream",
     "name": "stdout",
     "text": "False\n"
    }
   ],
   "source": [
    "fibo_29473 = 29473\n",
    "print(fibo_29473 in fibolist)"
   ]
  },
  {
   "cell_type": "code",
   "execution_count": 9,
   "metadata": {},
   "outputs": [
    {
     "output_type": "stream",
     "name": "stdout",
     "text": "{'o', 'e', 'w', 'a', 'd', 'l', 'r', ' ', 'h'}\n{'o', 'h', 'l'}\n{'e', 'w', 'd', 'r', ' '}\n{'a', 'e', 'w', 'd', 'r', ' '}\n"
    }
   ],
   "source": [
    "a = set('hello world')\n",
    "b = set('aloha')\n",
    "print(a.union(b))\n",
    "print(a.intersection(b))\n",
    "print(a.difference(b))\n",
    "print(a.symmetric_difference(b))"
   ]
  },
  {
   "cell_type": "code",
   "execution_count": 16,
   "metadata": {},
   "outputs": [
    {
     "output_type": "stream",
     "name": "stdout",
     "text": "{'tom': 20, 'emma': 22, 'freya': 24} {'chloe': 18, 'lizzy': 34}\n"
    }
   ],
   "source": [
    "d = {'tom': 20, 'emma': 22, 'freya': 24}\n",
    "e = dict(chloe = 18, lizzy = 34)\n",
    "print(d, e)"
   ]
  },
  {
   "cell_type": "code",
   "execution_count": 21,
   "metadata": {},
   "outputs": [
    {
     "output_type": "stream",
     "name": "stdout",
     "text": "{'2': True, '9999': False}\n"
    }
   ],
   "source": [
    "fibo_dict = {'2': 2 in fibolist, '9999': 9999 in fibolist}"
   ]
  }
 ]
}